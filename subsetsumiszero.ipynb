{
  "nbformat": 4,
  "nbformat_minor": 0,
  "metadata": {
    "colab": {
      "provenance": [],
      "authorship_tag": "ABX9TyNW60qNeYCz7ovQ94OXKBLc",
      "include_colab_link": true
    },
    "kernelspec": {
      "name": "python3",
      "display_name": "Python 3"
    },
    "language_info": {
      "name": "python"
    }
  },
  "cells": [
    {
      "cell_type": "markdown",
      "metadata": {
        "id": "view-in-github",
        "colab_type": "text"
      },
      "source": [
        "<a href=\"https://colab.research.google.com/github/Kashishsingla111/SubsetSumIsZero/blob/main/subsetsumiszero.ipynb\" target=\"_parent\"><img src=\"https://colab.research.google.com/assets/colab-badge.svg\" alt=\"Open In Colab\"/></a>"
      ]
    },
    {
      "cell_type": "markdown",
      "source": [
        "Finding subset from set of numbers whose sum is zero"
      ],
      "metadata": {
        "id": "c0GpkxktLKL7"
      }
    },
    {
      "cell_type": "code",
      "metadata": {
        "colab": {
          "base_uri": "https://localhost:8080/"
        },
        "outputId": "06685741-54c1-4606-a3c0-2b5533e9eba3",
        "id": "zzblepy0k4LU"
      },
      "source": [
        "#-------------------------------------------------------------\n",
        "# Step 1: Library inclusion\n",
        "#-------------------------------------------------------------\n",
        "import random as r\n",
        "\n",
        "\n",
        "#-------------------------------------------------------------\n",
        "# Step 2: Parameter Setting\n",
        "#-------------------------------------------------------------\n",
        "Set         = set([-12, -3, -6, 7, 2, -2, 6, 3, 9, -7, -5, -8, 1, 11, -9, -4])\n",
        "SetSize     = 5\n",
        "ResultList  = set()    # Store Result List i.e. list of sets whose sum is zero\n",
        "Iterations  = 1000   # Number of Inerations\n",
        "\n",
        "\n",
        "#-------------------------------------------------------------\n",
        "# Step3: Start Program\n",
        "#-------------------------------------------------------------\n",
        "\n",
        "# Loop till number of Iterations\n",
        "for i in range(Iterations):\n",
        "    # Select number of elements from Set\n",
        "    Chromosome = r.sample(Set,SetSize)\n",
        "    Chromosome.sort()\n",
        "\n",
        "    # Sum the number of elements in the Chromosome\n",
        "    if sum(Chromosome) == 0:\n",
        "        ResultList.add(tuple(Chromosome))\n",
        "\n",
        "# Print all the sets whose sum is zero\n",
        "for r in ResultList:\n",
        "\tprint (r)\n",
        "\n",
        "# Print total sets\n",
        "print (\"\\nTotal Sets: \", len(ResultList))\n"
      ],
      "execution_count": null,
      "outputs": [
        {
          "output_type": "stream",
          "name": "stdout",
          "text": [
            "(-7, -4, 2, 3, 6)\n",
            "(-7, -6, -5, 7, 11)\n",
            "(-9, -5, -3, 6, 11)\n",
            "(-7, -4, -3, 3, 11)\n",
            "(-6, -5, 1, 3, 7)\n",
            "(-12, -9, 3, 7, 11)\n",
            "(-8, -5, -2, 6, 9)\n",
            "(-9, -6, 2, 6, 7)\n",
            "(-9, -7, 3, 6, 7)\n",
            "(-12, -4, 2, 3, 11)\n",
            "(-7, -5, -2, 3, 11)\n",
            "(-8, -6, -4, 7, 11)\n",
            "(-8, -4, 2, 3, 7)\n",
            "(-8, -7, -3, 7, 11)\n",
            "(-9, -8, -3, 9, 11)\n",
            "(-7, -5, -3, 6, 9)\n",
            "(-9, -3, 2, 3, 7)\n",
            "(-5, -3, -2, 3, 7)\n",
            "(-9, -3, -2, 3, 11)\n",
            "(-12, -7, 3, 7, 9)\n",
            "\n",
            "Total Sets:  20\n"
          ]
        }
      ]
    },
    {
      "cell_type": "code",
      "source": [],
      "metadata": {
        "id": "zHPMhe7ALenL"
      },
      "execution_count": null,
      "outputs": []
    },
    {
      "cell_type": "code",
      "metadata": {
        "colab": {
          "base_uri": "https://localhost:8080/"
        },
        "id": "XmPJbrOXim19",
        "outputId": "84c7c698-a66d-48ce-9b73-dc54b0e49e61"
      },
      "source": [
        "#Constraint is subset size must be between 3 and 6 only.\n",
        "#-------------------------------------------------------------\n",
        "# Step 1: Library inclusion\n",
        "#-------------------------------------------------------------\n",
        "import random as r\n",
        "\n",
        "\n",
        "#-------------------------------------------------------------\n",
        "# Step 2: Parameter Setting\n",
        "#-------------------------------------------------------------\n",
        "Set         = set([-12, -3, -6, 7, 2, -2, 6, 3, 9, -7, -5, -8, 1, 11, -9, -4])\n",
        "SetLB       = 3\n",
        "SetUB       = 6\n",
        "ResultList  = set()    # Store Result List i.e. list of sets whose sum is zero\n",
        "Iterations  = 1000   # Number of Inerations\n",
        "\n",
        "\n",
        "#-------------------------------------------------------------\n",
        "# Step3: Start Program\n",
        "#-------------------------------------------------------------\n",
        "\n",
        "# Loop till number of Iterations\n",
        "for i in range(Iterations):\n",
        "    # Select set size randomly\n",
        "    SetSize = r.randint(SetLB,SetUB)\n",
        "\n",
        "    # Select number of elements from Set\n",
        "    Chromosome = r.sample(Set,SetSize)\n",
        "    Chromosome.sort()\n",
        "\n",
        "    # Sum the number of elements in the Chromosome\n",
        "    if sum(Chromosome) == 0:\n",
        "        ResultList.add(tuple(Chromosome))\n",
        "\n",
        "# Print all the sets whose sum is zero\n",
        "for r in ResultList:\n",
        "\tprint (r)\n",
        "\n",
        "# Print total sets\n",
        "print (\"\\nTotal Sets: \", len(ResultList))\n"
      ],
      "execution_count": null,
      "outputs": [
        {
          "output_type": "stream",
          "name": "stdout",
          "text": [
            "(-12, -6, -2, 9, 11)\n",
            "(-3, -2, 2, 3)\n",
            "(-7, -6, -3, -2, 7, 11)\n",
            "(-12, -5, -4, 1, 9, 11)\n",
            "(-8, -6, -4, 7, 11)\n",
            "(-7, -5, 3, 9)\n",
            "(-9, -3, -2, 1, 6, 7)\n",
            "(-9, -2, 1, 3, 7)\n",
            "(-7, -4, 2, 3, 6)\n",
            "(-12, 3, 9)\n",
            "(-6, -4, -3, -2, 6, 9)\n",
            "(-12, -9, 2, 3, 7, 9)\n",
            "(-7, -6, -3, 3, 6, 7)\n",
            "(-4, 1, 3)\n",
            "(-9, -5, 3, 11)\n",
            "(-8, -5, -2, 2, 6, 7)\n",
            "(-12, -9, 1, 3, 6, 11)\n",
            "(-4, -2, 1, 2, 3)\n",
            "(-12, -7, 2, 6, 11)\n",
            "(-8, 2, 6)\n",
            "(-12, -8, -2, 2, 9, 11)\n",
            "(-9, -6, -5, 9, 11)\n",
            "(-7, -5, -4, -2, 7, 11)\n",
            "(-8, -4, 2, 3, 7)\n",
            "(-12, -4, 1, 2, 6, 7)\n",
            "(-12, -5, -3, 9, 11)\n",
            "(-7, -6, -4, 6, 11)\n",
            "(-6, -5, -2, 6, 7)\n",
            "(-9, 1, 2, 6)\n",
            "(-5, -4, 9)\n",
            "\n",
            "Total Sets:  30\n"
          ]
        },
        {
          "output_type": "stream",
          "name": "stderr",
          "text": [
            "<ipython-input-1-aee291366dfb>:28: DeprecationWarning: Sampling from a set deprecated\n",
            "since Python 3.9 and will be removed in a subsequent version.\n",
            "  Chromosome = r.sample(Set,SetSize)\n"
          ]
        }
      ]
    }
  ]
}